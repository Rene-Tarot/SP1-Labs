{
  "nbformat": 4,
  "nbformat_minor": 0,
  "metadata": {
    "colab": {
      "name": "2020_SP1_ReinforcementLearning.ipynb",
      "provenance": [],
      "collapsed_sections": [
        "jrI6q7RmWQam"
      ]
    },
    "kernelspec": {
      "name": "python3",
      "display_name": "Python 3"
    },
    "accelerator": "GPU"
  },
  "cells": [
    {
      "cell_type": "markdown",
      "metadata": {
        "id": "jrI6q7RmWQam"
      },
      "source": [
        "<table align=\"center\">\n",
        "  <td align=\"center\"><a target=\"_blank\" href=\"http://introtodeeplearning.com\">\n",
        "        <img src=\"http://introtodeeplearning.com/images/colab/mit.png\" style=\"padding-bottom:5px;\" />\n",
        "      Visit MIT Deep Learning</a></td>\n",
        "  <td align=\"center\"><a target=\"_blank\" href=\"https://colab.research.google.com/github/aamini/introtodeeplearning/blob/master/lab3/RL.ipynb\">\n",
        "        <img src=\"http://introtodeeplearning.com/images/colab/colab.png?v2.0\"  style=\"padding-bottom:5px;\" />Run in Google Colab</a></td>\n",
        "  <td align=\"center\"><a target=\"_blank\" href=\"https://github.com/aamini/introtodeeplearning/blob/master/lab3/RL.ipynb\">\n",
        "        <img src=\"http://introtodeeplearning.com/images/colab/github.png\"  height=\"70px\" style=\"padding-bottom:5px;\"  />View Source on GitHub</a></td>\n",
        "</table>\n",
        "\n",
        "# Copyright Information"
      ]
    },
    {
      "cell_type": "code",
      "metadata": {
        "id": "wkd375upWYok"
      },
      "source": [
        "# Copyright 2020 MIT 6.S191 Introduction to Deep Learning. All Rights Reserved.\n",
        "# \n",
        "# Licensed under the MIT License. You may not use this file except in compliance\n",
        "# with the License. Use and/or modification of this code outside of 6.S191 must\n",
        "# reference:\n",
        "#\n",
        "# © MIT 6.S191: Introduction to Deep Learning\n",
        "# http://introtodeeplearning.com\n",
        "#"
      ],
      "execution_count": null,
      "outputs": []
    },
    {
      "cell_type": "markdown",
      "metadata": {
        "id": "WoXYKhfZMHiw"
      },
      "source": [
        "# Laboratory 3: Reinforcement Learning\n",
        "\n",
        "Reinforcement learning (RL) is a subset of machine learning which poses learning problems as interactions between agents and environments. It often assumes agents have no prior knowledge of a world, so they must learn to navigate environments by optimizing a reward function. Within an environment, an agent can take certain actions and receive feedback, in the form of positive or negative rewards, with respect to their decision. As such, an agent's feedback loop is somewhat akin to the idea of \"trial and error\", or the manner in which a child might learn to distinguish between \"good\" and \"bad\" actions.\n",
        "\n",
        "In practical terms, our RL agent will interact with the environment by taking an action at each timestep, receiving a corresponding reward, and updating its state according to what it has \"learned\".  \n",
        "\n",
        "![alt text](https://www.kdnuggets.com/images/reinforcement-learning-fig1-700.jpg)\n",
        "\n",
        "While the ultimate goal of reinforcement learning is to teach agents to act in the real, physical world, games provide a convenient proving ground for developing RL algorithms and agents. Games have some properties that make them particularly well suited for RL: \n",
        "\n",
        "1.   In many cases, games have perfectly describable environments. For example, all rules of chess can be formally written and programmed into a chess game simulator;\n",
        "2.   Games are massively parallelizable. Since they do not require running in the real world, simultaneous environments can be run on large data clusters; \n",
        "3.   Simpler scenarios in games enable fast prototyping. This speeds up the development of algorithms that could eventually run in the real-world; and\n",
        "4.   ... Games are fun! \n",
        "\n",
        "In previous labs, we have explored both supervised (with LSTMs, CNNs) and unsupervised / semi-supervised (with VAEs) learning tasks. Reinforcement learning is fundamentally different, in that we are training a deep learning algorithm to govern the actions of our RL agent, that is trying, within its environment, to find the optimal way to achieve a goal. The goal of training an RL agent is to determine the best next step to take to earn the greatest final payoff or return. In this lab, we focus on building a reinforcement learning algorithm to master two different environments with varying complexity. \n",
        "\n",
        "1.   **Cartpole**:   Balance a pole, protruding from a cart, in an upright position by only moving the base left or right. Environment with a low-dimensional observation space.\n",
        "2.   [**Pong**](https://en.wikipedia.org/wiki/Pong): Beat your competitors (whether other AI or humans!) at the game of Pong. Environment with a high-dimensional observation space -- learning directly from raw pixels.\n",
        "\n",
        "Let's get started! First we'll import TensorFlow, the course package, and some dependencies.\n"
      ]
    },
    {
      "cell_type": "code",
      "metadata": {
        "id": "EvdePP-VyVWp",
        "outputId": "925fbb6b-8ee4-4e99-8733-2fb6fc1d9420",
        "colab": {
          "base_uri": "https://localhost:8080/",
          "height": 207
        }
      },
      "source": [
        "!apt-get install -y xvfb python-opengl x11-utils > /dev/null 2>&1\n",
        "!pip install gym pyvirtualdisplay scikit-video > /dev/null 2>&1\n",
        "\n",
        "%tensorflow_version 2.x\n",
        "import tensorflow as tf\n",
        "\n",
        "import numpy as np\n",
        "import base64, io, time, gym\n",
        "import IPython, functools\n",
        "import matplotlib.pyplot as plt\n",
        "from tqdm import tqdm\n",
        "\n",
        "!pip install mitdeeplearning\n",
        "import mitdeeplearning as mdl"
      ],
      "execution_count": null,
      "outputs": [
        {
          "output_type": "stream",
          "text": [
            "Requirement already satisfied: mitdeeplearning in /usr/local/lib/python3.6/dist-packages (0.1.2)\n",
            "Requirement already satisfied: regex in /usr/local/lib/python3.6/dist-packages (from mitdeeplearning) (2019.12.20)\n",
            "Requirement already satisfied: tqdm in /usr/local/lib/python3.6/dist-packages (from mitdeeplearning) (4.38.0)\n",
            "Requirement already satisfied: numpy in /usr/local/lib/python3.6/dist-packages (from mitdeeplearning) (1.18.2)\n",
            "Requirement already satisfied: gym in /usr/local/lib/python3.6/dist-packages (from mitdeeplearning) (0.17.1)\n",
            "Requirement already satisfied: cloudpickle<1.4.0,>=1.2.0 in /usr/local/lib/python3.6/dist-packages (from gym->mitdeeplearning) (1.3.0)\n",
            "Requirement already satisfied: pyglet<=1.5.0,>=1.4.0 in /usr/local/lib/python3.6/dist-packages (from gym->mitdeeplearning) (1.5.0)\n",
            "Requirement already satisfied: six in /usr/local/lib/python3.6/dist-packages (from gym->mitdeeplearning) (1.12.0)\n",
            "Requirement already satisfied: scipy in /usr/local/lib/python3.6/dist-packages (from gym->mitdeeplearning) (1.4.1)\n",
            "Requirement already satisfied: future in /usr/local/lib/python3.6/dist-packages (from pyglet<=1.5.0,>=1.4.0->gym->mitdeeplearning) (0.16.0)\n"
          ],
          "name": "stdout"
        }
      ]
    },
    {
      "cell_type": "markdown",
      "metadata": {
        "id": "zmrHSiXKTXTY"
      },
      "source": [
        "Before we dive in, let's take a step back and outline our approach, which is generally applicable to reinforcement learning problems in general:\n",
        "\n",
        "1. **Initialize our environment and our agent**: here we will describe the different observations and actions the agent can make in the environemnt.\n",
        "2. **Define our agent's memory**: this will enable the agent to remember its past actions, observations, and rewards.\n",
        "3. **Define a reward function**: describes the reward associated with an action or sequence of actions.\n",
        "4. **Define the learning algorithm**: this will be used to reinforce the agent's good behaviors and discourage bad behaviors.\n"
      ]
    },
    {
      "cell_type": "markdown",
      "metadata": {
        "id": "UT7YL8KBJIIc"
      },
      "source": [
        "# Part 1: Cartpole\n",
        "\n",
        "## 3.1 Define the Cartpole environment and agent\n",
        "\n",
        "### Environment \n",
        "\n",
        "In order to model the environment for both the Cartpole and Pong tasks, we'll be using a toolkit developed by OpenAI called [OpenAI Gym](https://gym.openai.com/). It provides several pre-defined environments for training and testing reinforcement learning agents, including those for classic physics control tasks, Atari video games, and robotic simulations. To access the Cartpole environment, we can use `env = gym.make(\"CartPole-v0\")`, which we gained access to when we imported the `gym` package. We can instantiate different [environments](https://gym.openai.com/envs/#classic_control) by passing the enivronment name to the `make` function.\n",
        "\n",
        "One issue we might experience when developing RL algorithms is that many aspects of the learning process are inherently random: initializing game states, changes in the environment, and the agent's actions. As such, it can be helpful to set a initial \"seed\" for the environment to ensure some level of reproducibility. Much like you might use `numpy.random.seed`, we can call the comparable function in gym, `seed`, with our defined environment to ensure the environment's random variables are initialized the same each time."
      ]
    },
    {
      "cell_type": "code",
      "metadata": {
        "id": "quv9SC0iIYFm",
        "outputId": "23712829-17d8-4d63-8bc6-f70e6058ff46",
        "colab": {
          "base_uri": "https://localhost:8080/",
          "height": 34
        }
      },
      "source": [
        "### Instantiate the Cartpole environment ###\n",
        "\n",
        "env = gym.make(\"CartPole-v0\")\n",
        "env.seed(1)"
      ],
      "execution_count": null,
      "outputs": [
        {
          "output_type": "execute_result",
          "data": {
            "text/plain": [
              "[1]"
            ]
          },
          "metadata": {
            "tags": []
          },
          "execution_count": 2
        }
      ]
    },
    {
      "cell_type": "markdown",
      "metadata": {
        "id": "mhEITUcKK455"
      },
      "source": [
        "In Cartpole, a pole is attached by an un-actuated joint to a cart, which moves along a frictionless track. The pole starts upright, and the goal is to prevent it from falling over. The system is controlled by applying a force of +1 or -1 to the cart. A reward of +1 is provided for every timestep that the pole remains upright. The episode ends when the pole is more than 15 degrees from vertical, or the cart moves more than 2.4 units from the center of the track. A visual summary of the cartpole environment is depicted below:\n",
        "\n",
        "<img width=\"400px\" src=\"https://danielpiedrahita.files.wordpress.com/2017/02/cart-pole.png\"></img>\n",
        "\n",
        "Given this setup for the environment and the objective of the game, we can think about: 1) what observations help define the environment's state; 2) what actions the agent can take. \n",
        "\n",
        "First, let's consider the observation space. In this Cartpole environment our observations are:\n",
        "\n",
        "1. Cart position\n",
        "2. Cart velocity\n",
        "3. Pole angle\n",
        "4. Pole rotation rate\n",
        "\n",
        "We can confirm the size of the space by querying the environment's observation space:\n"
      ]
    },
    {
      "cell_type": "code",
      "metadata": {
        "id": "UVJaEcbdIX82",
        "outputId": "30096286-e350-4d3f-ec9c-630f83acbde1",
        "colab": {
          "base_uri": "https://localhost:8080/",
          "height": 34
        }
      },
      "source": [
        "n_observations = env.observation_space\n",
        "print(\"Environment has observation space =\", n_observations)"
      ],
      "execution_count": null,
      "outputs": [
        {
          "output_type": "stream",
          "text": [
            "Environment has observation space = Box(4,)\n"
          ],
          "name": "stdout"
        }
      ]
    },
    {
      "cell_type": "markdown",
      "metadata": {
        "id": "ZibGgjrALgPM"
      },
      "source": [
        "Second, we consider the action space. At every time step, the agent can move either right or left. Again we can confirm the size of the action space by querying the environment:"
      ]
    },
    {
      "cell_type": "code",
      "metadata": {
        "id": "qc9SIPxBIXrm",
        "outputId": "6120278a-b9ad-412f-adb1-e2a94aae1d13",
        "colab": {
          "base_uri": "https://localhost:8080/",
          "height": 34
        }
      },
      "source": [
        "n_actions = env.action_space.n\n",
        "print(\"Number of possible actions that the agent can choose from =\", n_actions)"
      ],
      "execution_count": null,
      "outputs": [
        {
          "output_type": "stream",
          "text": [
            "Number of possible actions that the agent can choose from = 2\n"
          ],
          "name": "stdout"
        }
      ]
    },
    {
      "cell_type": "markdown",
      "metadata": {
        "id": "pPfHME8aRKkb"
      },
      "source": [
        "### Cartpole agent\n",
        "\n",
        "Now that we have instantiated the environment and understood the dimensionality of the observation and action spaces, we are ready to define our agent. In deep reinforcement learning, a deep neural network defines the agent. This network will take as input an observation of the environment and output the probability of taking each of the possible actions. Since Cartpole is defined by a low-dimensional observation space, a simple feed-forward neural network should work well for our agent. We will define this using the `Sequential` API.\n"
      ]
    },
    {
      "cell_type": "code",
      "metadata": {
        "id": "eoUDN263JiR4"
      },
      "source": [
        "### Define the Cartpole agent ###\n",
        "\n",
        "# Defines a feed-forward neural network\n",
        "def create_cartpole_model():\n",
        "  model = tf.keras.models.Sequential([\n",
        "      # First Dense layer\n",
        "      tf.keras.layers.Dense(units=32, activation='relu'),\n",
        "\n",
        "      # TODO: Define the last Dense layer, which will provide the network's output.\n",
        "      # Think about the space the agent needs to act in!\n",
        "      #'''TODO: Dense layer to output action probabilities'''\n",
        "      tf.keras.layers.Dense(units=n_actions, activation=None)\n",
        "  ])\n",
        "  return model\n",
        "\n",
        "cartpole_model = create_cartpole_model()"
      ],
      "execution_count": null,
      "outputs": []
    },
    {
      "cell_type": "markdown",
      "metadata": {
        "id": "d5D5NSIYS2IW"
      },
      "source": [
        "Now that we have defined the core network architecture, we will define an *action function* that executes a forward pass through the network, given a set of observations, and samples from the output. This sampling from the output probabilities will be used to select the next action for the agent. \n",
        "\n",
        "**Critically, this action function is totally general -- we will use this function for both Cartpole and Pong, and it is applicable to other RL tasks, as well!**"
      ]
    },
    {
      "cell_type": "code",
      "metadata": {
        "id": "E_vVZRr8Q4R_"
      },
      "source": [
        "### Define the agent's action function ###\n",
        "\n",
        "# Function that takes observations as input, executes a forward pass through model, \n",
        "#   and outputs a sampled action.\n",
        "# Arguments:\n",
        "#   model: the network that defines our agent\n",
        "#   observation: observation which is fed as input to the model\n",
        "# Returns:\n",
        "#   action: choice of agent action\n",
        "def choose_action(model, observation):\n",
        "  # add batch dimension to the observation\n",
        "  observation = np.expand_dims(observation, axis=0)\n",
        "\n",
        "  '''TODO: feed the observations through the model to predict the log probabilities of each possible action.'''\n",
        "  logits = model.predict(observation)\n",
        "  \n",
        "  # pass the log probabilities through a softmax to compute true probabilities\n",
        "  prob_weights = tf.nn.softmax(logits).numpy()\n",
        "  \n",
        "  '''TODO: randomly sample from the prob_weights to pick an action.\n",
        "  Hint: carefully consider the dimensionality of the input probabilities (vector) and the output action (scalar)'''\n",
        "  action = np.random.choice(n_actions, size=1, p=prob_weights.flatten())[0]\n",
        "\n",
        "  return action"
      ],
      "execution_count": null,
      "outputs": []
    },
    {
      "cell_type": "markdown",
      "metadata": {
        "id": "_tR9uAWcTnkr"
      },
      "source": [
        "## 3.2 Define the agent's memory\n",
        "\n",
        "Now that we have instantiated the environment and defined the agent network architecture and action function, we are ready to move on to the next step in our RL workflow:\n",
        "1. **Initialize our environment and our agent**: here we will describe the different observations and actions the agent can make in the environemnt.\n",
        "2. **Define our agent's memory**: this will enable the agent to remember its past actions, observations, and rewards.\n",
        "3. **Define the learning algorithm**: this will be used to reinforce the agent's good behaviors and discourage bad behaviors.\n",
        "\n",
        "In reinforcement learning, training occurs alongside the agent's acting in the environment; an *episode* refers to a sequence of actions that ends in some terminal state, such as the pole falling down or the cart crashing. The agent will need to remember all of its observations and actions, such that once an episode ends, it can learn to \"reinforce\" the good actions and punish the undesirable actions via training. Our first step is to define a simple memory buffer that contains the agent's observations, actions, and received rewards from a given episode. \n",
        "\n",
        "**Once again, note the modularity of this memory buffer -- it can and will be applied to other RL tasks as well!**"
      ]
    },
    {
      "cell_type": "code",
      "metadata": {
        "id": "8MM6JwXVQ4JG"
      },
      "source": [
        "### Agent Memory ###\n",
        "\n",
        "class Memory:\n",
        "  def __init__(self): \n",
        "      self.clear()\n",
        "\n",
        "  # Resets/restarts the memory buffer\n",
        "  def clear(self): \n",
        "      self.observations = []\n",
        "      self.actions = []\n",
        "      self.rewards = []\n",
        "\n",
        "  # Add observations, actions, rewards to memory\n",
        "  def add_to_memory(self, new_observation, new_action, new_reward): \n",
        "      self.observations.append(new_observation)\n",
        "      '''TODO: update the list of actions with new action'''\n",
        "      self.actions.append(new_action) \n",
        "      '''TODO: update the list of rewards with new reward'''\n",
        "      self.rewards.append(new_reward)\n",
        "        \n",
        "memory = Memory()"
      ],
      "execution_count": null,
      "outputs": []
    },
    {
      "cell_type": "markdown",
      "metadata": {
        "id": "D4YhtPaUVj5m"
      },
      "source": [
        "## 3.3 Reward function\n",
        "\n",
        "We're almost ready to begin the learning algorithm for our agent! The next step is to compute the rewards of our agent as it acts in the environment. Since we (and the agent) is uncertain about if and when the game or task will end (i.e., when the pole will fall), it is useful to emphasize getting rewards **now** rather than later in the future -- this is the idea of discounting. This is a similar concept to discounting money in the case of interest. ecall from lecture, we use reward discount to give more preference at getting rewards now rather than later in the future. The idea of discounting rewards is similar to discounting money in the case of interest.\n",
        "\n",
        "To compute the expected cumulative reward, known as the **return**, at a given timestep in a learning episode, we sum the discounted rewards expected at that time step $t$, within a learning episode, and projecting into the future. We define the return (cumulative reward) at a time step $t$, $R_{t}$ as:\n",
        "\n",
        ">$R_{t}=\\sum_{k=0}^\\infty\\gamma^kr_{t+k}$\n",
        "\n",
        "where  $0 < \\gamma < 1$ is the discount factor and $r_{t}$ is the reward at time step $t$, and the index $k$ increments projection into the future within a single learning episode. Intuitively, you can think of this function as depreciating any rewards received at later time steps, which will force the agent prioritize getting rewards now. Since we can't extend episodes to infinity, in practice the computation will be limited to the number of timesteps in an episode -- after that the reward is assumed to be zero.\n",
        "\n",
        "Take note of the form of this sum -- we'll have to be clever about how we implement this function. Specifically, we'll need to initialize an array of zeros, with length of the number of time steps, and fill it with the real discounted reward values as we loop through the rewards from the episode, which will have been saved in the agents memory. What we ultimately care about is which actions are better relative to other actions taken in that episode -- so, we'll normalize our computed rewards, using the mean and standard deviation of the rewards across the learning episode.\n"
      ]
    },
    {
      "cell_type": "code",
      "metadata": {
        "id": "5_Q2OFYtQ32X"
      },
      "source": [
        "### Reward function ###\n",
        "\n",
        "# Helper function that normalizes an np.array x\n",
        "def normalize(x):\n",
        "  x -= np.mean(x)\n",
        "  x /= np.std(x)\n",
        "  return x.astype(np.float32)\n",
        "\n",
        "# Compute normalized, discounted, cumulative rewards (i.e., return)\n",
        "# Arguments:\n",
        "#   rewards: reward at timesteps in episode\n",
        "#   gamma: discounting factor\n",
        "# Returns:\n",
        "#   normalized discounted reward\n",
        "def discount_rewards(rewards, gamma=0.95): \n",
        "  discounted_rewards = np.zeros_like(rewards)\n",
        "  R = 0\n",
        "  for t in reversed(range(0, len(rewards))):\n",
        "      # update the total discounted reward\n",
        "      R = R * gamma + rewards[t]\n",
        "      discounted_rewards[t] = R\n",
        "      \n",
        "  return normalize(discounted_rewards)"
      ],
      "execution_count": null,
      "outputs": []
    },
    {
      "cell_type": "markdown",
      "metadata": {
        "id": "QzbY-mjGYcmt"
      },
      "source": [
        "## 3.4 Learning algorithm\n",
        "\n",
        "Now we can start to define the learing algorithm which will be used to reinforce good behaviors of the agent and discourage bad behaviours. In this lab, we will focus on *policy gradient* methods which aim to **maximize** the likelihood of actions that result in large rewards. Equivalently, this means that we want to **minimize** the negative likelihood of these same actions. We achieve this by simply **scaling** the probabilities by their associated rewards -- effectively amplifying the likelihood of actions that resujlt in large rewards.\n",
        "\n",
        "Since the log function is monotonically increasing, this means that minimizing **negative likelihood** is equivalent to minimizing **negative log-likelihood**.  Recall that we can easily compute the negative log-likelihood of a discrete action by evaluting its [softmax cross entropy](https://www.tensorflow.org/api_docs/python/tf/nn/sparse_softmax_cross_entropy_with_logits). Like in supervised learning, we can use stochastic gradient descent methods to achieve the desired minimization. \n",
        "\n",
        "Let's begin by defining the loss function."
      ]
    },
    {
      "cell_type": "code",
      "metadata": {
        "id": "fsgZ3IDCY_Zn"
      },
      "source": [
        "### Loss function ###\n",
        "\n",
        "# Arguments:\n",
        "#   logits: network's predictions for actions to take\n",
        "#   actions: the actions the agent took in an episode\n",
        "#   rewards: the rewards the agent received in an episode\n",
        "# Returns:\n",
        "#   loss\n",
        "def compute_loss(logits, actions, rewards): \n",
        "  '''TODO: complete the function call to compute the negative log probabilities'''\n",
        "  neg_logprob = tf.nn.sparse_softmax_cross_entropy_with_logits(logits=logits, labels=actions)\n",
        "  \n",
        "  '''TODO: scale the negative log probability by the rewards'''\n",
        "  loss = tf.reduce_mean(neg_logprob * rewards)\n",
        "  return loss"
      ],
      "execution_count": null,
      "outputs": []
    },
    {
      "cell_type": "markdown",
      "metadata": {
        "id": "Rr5vQ9fqbPpp"
      },
      "source": [
        "Now let's use the loss function to define a training step of our learning algorithm:"
      ]
    },
    {
      "cell_type": "code",
      "metadata": {
        "id": "_50ada7nbZ7L"
      },
      "source": [
        "### Training step (forward and backpropagation) ###\n",
        "\n",
        "def train_step(model, optimizer, observations, actions, discounted_rewards):\n",
        "  with tf.GradientTape() as tape:\n",
        "      # Forward propagate through the agent network\n",
        "      logits = model(observations)\n",
        "\n",
        "      '''TODO: call the compute_loss function to compute the loss'''\n",
        "      loss = compute_loss(logits, actions, discounted_rewards)\n",
        "\n",
        "  '''TODO: run backpropagation to minimize the loss using the tape.gradient method.\n",
        "      Use `model.trainable_variables`'''\n",
        "  grads = tape.gradient(loss, model.trainable_variables)\n",
        "  optimizer.apply_gradients(zip(grads, model.trainable_variables))\n"
      ],
      "execution_count": null,
      "outputs": []
    },
    {
      "cell_type": "markdown",
      "metadata": {
        "id": "XsjKXh6BcgjR"
      },
      "source": [
        "## 3.5 Run cartpole!\n",
        "\n",
        "Having had no prior knowledge of the environment, the agent will begin to learn how to balance the pole on the cart based only on the feedback received from the environment! Having defined how our agent can move, how it takes in new observations, and how it updates its state, we'll see how it gradually learns a policy of actions to optimize balancing the pole as long as possible. To do this, we'll track how the rewards evolve as a function of training -- how should the rewards change as training progresses?"
      ]
    },
    {
      "cell_type": "code",
      "metadata": {
        "id": "XmOzc2rrcn8Q",
        "outputId": "6d914a85-5138-498d-b895-c9c75492f502",
        "colab": {
          "base_uri": "https://localhost:8080/",
          "height": 541
        }
      },
      "source": [
        "### Cartpole training! ###\n",
        "\n",
        "# Learning rate and optimizer\n",
        "learning_rate = 1e-3\n",
        "optimizer = tf.keras.optimizers.Adam(learning_rate)\n",
        "\n",
        "# instantiate cartpole agent\n",
        "cartpole_model = create_cartpole_model()\n",
        "\n",
        "# to track our progress\n",
        "smoothed_reward = mdl.util.LossHistory(smoothing_factor=0.9)\n",
        "plotter = mdl.util.PeriodicPlotter(sec=2, xlabel='Iterations', ylabel='Rewards')\n",
        "\n",
        "if hasattr(tqdm, '_instances'): tqdm._instances.clear() # clear if it exists\n",
        "for i_episode in range(500):\n",
        "\n",
        "  plotter.plot(smoothed_reward.get())\n",
        "\n",
        "  # Restart the environment\n",
        "  observation = env.reset()\n",
        "  memory.clear()\n",
        "\n",
        "  while True:\n",
        "      # using our observation, choose an action and take it in the environment\n",
        "      action = choose_action(cartpole_model, observation)\n",
        "      next_observation, reward, done, info = env.step(action)\n",
        "      # add to memory\n",
        "      memory.add_to_memory(observation, action, reward)\n",
        "      \n",
        "      # is the episode over? did you crash or do so well that you're done?\n",
        "      if done:\n",
        "          # determine total reward and keep a record of this\n",
        "          total_reward = sum(memory.rewards)\n",
        "          smoothed_reward.append(total_reward)\n",
        "          \n",
        "          # initiate training - remember we don't know anything about how the \n",
        "          #   agent is doing until it has crashed!\n",
        "          train_step(cartpole_model, optimizer, \n",
        "                     observations=np.vstack(memory.observations),\n",
        "                     actions=np.array(memory.actions),\n",
        "                     discounted_rewards = discount_rewards(memory.rewards))\n",
        "          \n",
        "          # reset the memory\n",
        "          memory.clear()\n",
        "          break\n",
        "      # update our observatons\n",
        "      observation = next_observation\n"
      ],
      "execution_count": null,
      "outputs": [
        {
          "output_type": "display_data",
          "data": {
            "image/png": "[encoded data removed]",
            "text/plain": [
              "<Figure size 432x288 with 1 Axes>"
            ]
          },
          "metadata": {
            "tags": []
          }
        },
        {
          "output_type": "display_data",
          "data": {
            "image/png": "[encoded data removed]",
            "text/plain": [
              "<Figure size 432x288 with 1 Axes>"
            ]
          },
          "metadata": {
            "tags": []
          }
        }
      ]
    },
    {
      "cell_type": "markdown",
      "metadata": {
        "id": "mkcUtGF1VE-K"
      },
      "source": [
        "To get a sense of how our agent did, we can save a video of the trained model working on balancing the pole. Realize that this is a brand new environment that the agent has not seen before!\n",
        "\n",
        "Let's display the saved video to watch how our agent did!\n"
      ]
    },
    {
      "cell_type": "code",
      "metadata": {
        "id": "PAYBkv6Zbk0J",
        "outputId": "ff06b5c0-53e6-4c39-ae8b-dd069298caea",
        "colab": {
          "base_uri": "https://localhost:8080/",
          "height": 438
        }
      },
      "source": [
        "saved_cartpole = mdl.lab3.save_video_of_model(cartpole_model, \"CartPole-v0\")\n",
        "mdl.lab3.play_video(saved_cartpole)"
      ],
      "execution_count": null,
      "outputs": [
        {
          "output_type": "stream",
          "text": [
            "Successfully saved 76 frames into CartPole-v0.mp4!\n"
          ],
          "name": "stdout"
        },
        {
          "output_type": "execute_result",
          "data": {
            "text/html": [
              "\n",
              "        <video controls>\n",
              "            <source src=\"data:video/mp4;base64,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\" type=\"video/mp4\" />\n",
              "        </video>"
            ],
            "text/plain": [
              "<IPython.core.display.HTML object>"
            ]
          },
          "metadata": {
            "tags": []
          },
          "execution_count": 12
        }
      ]
    },
    {
      "cell_type": "markdown",
      "metadata": {
        "id": "CSbVNDpaVb3_"
      },
      "source": [
        "How does the agent perform? Could you train it for shorter amounts of time and still perform well? Do you think that training longer would help even more? "
      ]
    },
    {
      "cell_type": "markdown",
      "metadata": {
        "id": "Eu6Mqxc720ST"
      },
      "source": [
        "#Part 2: Pong\n",
        "\n",
        "In Cartpole, we dealt with an environment that was static -- in other words, it didn't change over time. What happens if our environment is dynamic and unpredictable? Well that's exactly the case in [Pong](https://en.wikipedia.org/wiki/Pong), since part of the environment is the opposing player. We don't know how our opponent will act or react to our actions, so the complexity of our problem increases. It also becomes much more interesting, since we can compete to beat our opponent. RL provides a powerful framework for training AI systems with the ability to handle and interact with dynamic, unpredictable environments. In this part of the lab, we'll use the tools and workflow we explored in Part 1 to build an RL agent capable of playing the game of Pong.\n"
      ]
    },
    {
      "cell_type": "markdown",
      "metadata": {
        "id": "srZ4YE29isuA"
      },
      "source": [
        "## 3.6 Define and inspect the Pong environment\n",
        "\n",
        "As with Cartpole, we'll instantiate the Pong environment in the OpenAI gym, using a seed of 1."
      ]
    },
    {
      "cell_type": "code",
      "metadata": {
        "id": "lbYHLr66i15n"
      },
      "source": [
        "env = gym.make(\"Pong-v0\", frameskip=5)\n",
        "env.seed(1); # for reproducibility"
      ],
      "execution_count": null,
      "outputs": []
    },
    {
      "cell_type": "markdown",
      "metadata": {
        "id": "52uZ2Xhyi-MW"
      },
      "source": [
        "Let's next consider the observation space for the Pong environment. Instead of four physical descriptors of the cart-pole setup, in the case of Pong our observations are the individual video frames (i.e., images) that depict the state of the board. Thus, the observations are 210x160 RGB images (arrays of shape (210,160,3)).\n",
        "\n",
        "We can again confirm the size of the observation space by query:"
      ]
    },
    {
      "cell_type": "code",
      "metadata": {
        "id": "0yX4GWvxjnHS",
        "outputId": "56da83a9-75b8-424f-fe24-2bbb6a311a18",
        "colab": {
          "base_uri": "https://localhost:8080/",
          "height": 34
        }
      },
      "source": [
        "print(\"Environment has observation space =\", env.observation_space)"
      ],
      "execution_count": null,
      "outputs": [
        {
          "output_type": "stream",
          "text": [
            "Environment has observation space = Box(210, 160, 3)\n"
          ],
          "name": "stdout"
        }
      ]
    },
    {
      "cell_type": "markdown",
      "metadata": {
        "id": "uuEC2TdSjx9D"
      },
      "source": [
        "In Pong, at every time step, the agent (which controls the paddle) has six actions to choose from: no-op (no operation), move right, move left, fire, fire right, and fire left. Let's confirm the size of the action space by querying the environment:"
      ]
    },
    {
      "cell_type": "code",
      "metadata": {
        "id": "Iuy9oPc1kag3",
        "outputId": "8487571a-b0a3-4630-94d1-91e2172f778d",
        "colab": {
          "base_uri": "https://localhost:8080/",
          "height": 34
        }
      },
      "source": [
        "n_actions = env.action_space.n\n",
        "print(\"Number of possible actions that the agent can choose from =\", n_actions)"
      ],
      "execution_count": null,
      "outputs": [
        {
          "output_type": "stream",
          "text": [
            "Number of possible actions that the agent can choose from = 6\n"
          ],
          "name": "stdout"
        }
      ]
    },
    {
      "cell_type": "markdown",
      "metadata": {
        "id": "9-fghDRigUE5"
      },
      "source": [
        "## 3.7 Define the Pong agent\n",
        "\n",
        "As before, we'll use a neural network to define our agent. What network architecture do you think would be especially well suited to this game? Since our observations are now in the form of images, we'll add convolutional layers to the network to increase the learning capacity of our network."
      ]
    },
    {
      "cell_type": "code",
      "metadata": {
        "id": "IJiqbFYpgYRH"
      },
      "source": [
        "### Define the Pong agent ###\n",
        "\n",
        "# Functionally define layers for convenience\n",
        "# All convolutional layers will have ReLu activation\n",
        "Conv2D = functools.partial(tf.keras.layers.Conv2D, padding='same', activation='relu')\n",
        "Flatten = tf.keras.layers.Flatten\n",
        "Dense = tf.keras.layers.Dense\n",
        "\n",
        "# Defines a CNN for the Pong agent\n",
        "def create_pong_model():\n",
        "  model = tf.keras.models.Sequential([\n",
        "    # Convolutional layers\n",
        "    # First, 16 7x7 filters with 4x4 stride\n",
        "    Conv2D(filters=16, kernel_size=7, strides=4),\n",
        "\n",
        "    # TODO: define convolutional layers with 32 5x5 filters and 2x2 stride\n",
        "    Conv2D(filters=32, kernel_size=5, strides=2),\n",
        "\n",
        "    # TODO: define convolutional layers with 48 3x3 filters and 2x2 stride\n",
        "    Conv2D(filters=48, kernel_size=3, strides=2),\n",
        "\n",
        "    Flatten(),\n",
        "    \n",
        "    # Fully connected layer and output\n",
        "    Dense(units=64, activation='relu'),\n",
        "    # TODO: define the output dimension of the last Dense layer. \n",
        "    # Pay attention to the space the agent needs to act in\n",
        "    Dense(n_actions)\n",
        "  \n",
        "  ])\n",
        "  return model\n",
        "\n",
        "pong_model = create_pong_model()"
      ],
      "execution_count": null,
      "outputs": []
    },
    {
      "cell_type": "markdown",
      "metadata": {
        "id": "yaeZ067olFiJ"
      },
      "source": [
        "Since we've already defined the action function, `choose_action(model, observation)`, we don't need to define it again. Instead, we'll be able to reuse it later on by passing in our new model we've just created, `pong_model`. This is awesome because our action function provides a modular and generalizable method for all sorts of RL agents!"
      ]
    },
    {
      "cell_type": "markdown",
      "metadata": {
        "id": "l0RvqOVkmc2r"
      },
      "source": [
        "## 3.8 Pong-specific functions\n",
        "\n",
        "In Part 1 (Cartpole), we implemented some key functions and classes to build and train our RL agent -- `choose_action(model, observation)` and the `Memory` class, for example. However, in getting ready to apply these to a new game like Pong, we might need to make some slight modifications. \n",
        "\n",
        "Namely, we need to think about what happens when a game ends. In Pong, we know a game has ended if the reward is +1 (we won!) or -1 (we lost unfortunately). Otherwise, we expect the reward at a timestep to be zero -- the players (or agents) are just playing eachother. So, after a game ends, we will need to reset the reward to zero when a game ends. This will result in a modified reward function."
      ]
    },
    {
      "cell_type": "code",
      "metadata": {
        "id": "iEZG2o50luLu"
      },
      "source": [
        "### Pong reward function ###\n",
        "\n",
        "# Compute normalized, discounted rewards for Pong (i.e., return)\n",
        "# Arguments:\n",
        "#   rewards: reward at timesteps in episode\n",
        "#   gamma: discounting factor. Note increase to 0.99 -- rate of depreciation will be slower.\n",
        "# Returns:\n",
        "#   normalized discounted reward\n",
        "def discount_rewards(rewards, gamma=0.99): \n",
        "  discounted_rewards = np.zeros_like(rewards)\n",
        "  R = 0\n",
        "  for t in reversed(range(0, len(rewards))):\n",
        "      # NEW: Reset the sum if the reward is not 0 (the game has ended!)\n",
        "      if rewards[t] != 0:\n",
        "        R = 0\n",
        "      # update the total discounted reward as before\n",
        "      R = R * gamma + rewards[t]\n",
        "      discounted_rewards[t] = R\n",
        "      \n",
        "  return normalize(discounted_rewards)"
      ],
      "execution_count": null,
      "outputs": []
    },
    {
      "cell_type": "markdown",
      "metadata": {
        "id": "HopLpb4IoOqA"
      },
      "source": [
        "Additionally, we have to consider the nature of the observations in the Pong environment, and how they will be fed into our network. Our observations in this case are images. Before we input an image into our network, we'll do a bit of pre-processing to crop and scale, clean up the background colors to a single color, and set the important game elements to a single color. Let's use this function to visualize what an observation might look like before and after pre-processing."
      ]
    },
    {
      "cell_type": "code",
      "metadata": {
        "id": "no5IIYtFm8pI",
        "outputId": "acd119e5-d3d5-4878-d369-a7b34555ad34",
        "colab": {
          "base_uri": "https://localhost:8080/",
          "height": 227
        }
      },
      "source": [
        "observation = env.reset()\n",
        "for i in range(30):\n",
        "  observation, _,_,_ = env.step(0)\n",
        "observation_pp = mdl.lab3.preprocess_pong(observation)\n",
        "\n",
        "f = plt.figure(figsize=(10,3))\n",
        "ax = f.add_subplot(121)\n",
        "ax2 = f.add_subplot(122)\n",
        "ax.imshow(observation); ax.grid(False);\n",
        "ax2.imshow(np.squeeze(observation_pp)); ax2.grid(False); plt.title('Preprocessed Observation');"
      ],
      "execution_count": null,
      "outputs": [
        {
          "output_type": "display_data",
          "data": {
            "image/png": "[encoded data removed]",
            "text/plain": [
              "<Figure size 720x216 with 2 Axes>"
            ]
          },
          "metadata": {
            "tags": []
          }
        }
      ]
    },
    {
      "cell_type": "markdown",
      "metadata": {
        "id": "bYwIWC-Cz8F2"
      },
      "source": [
        "What do you notice? How might these changes be important for training our RL algorithm?"
      ]
    },
    {
      "cell_type": "markdown",
      "metadata": {
        "id": "mRqcaDQ1pm3x"
      },
      "source": [
        "## 3.9 Training Pong\n",
        "\n",
        "We're now all set up to start training our RL algorithm and agent for the game of Pong! We've already defined our loss function with `compute_loss`, which employs policy gradient learning, as well as our backpropagation step with `train_step` which is beautiful! We will use these functions to execute training the Pong agent. Let's walk through the training block.\n",
        "\n",
        "In Pong, rather than feeding our network one image at a time, it can actually improve performance to input the difference between two consecutive observations, which really gives us information about the movement between frames -- how the game is changing. We'll first pre-process the raw observation, `x`, and then we'll compute the difference with the image frame we saw one timestep before. \n",
        "\n",
        "This observation change will be forward propagated through our Pong agent, the CNN network model, which will then predict the next action to take based on this observation. The raw reward will be computed, and the observation, action, and reward will be recorded into memory. This will continue until a training episode, i.e., a game, ends.\n",
        "\n",
        "Then, we will compute the discounted rewards, and use this information to execute a training step. Memory will be cleared, and we will do it all over again!\n",
        "\n",
        "Let's run the code block to train our Pong agent. Note that completing training will take quite a bit of time (estimated at least a couple of hours). We will again visualize the evolution of the total reward as a function of training to get a sense of how the agent is learning."
      ]
    },
    {
      "cell_type": "code",
      "metadata": {
        "id": "xCwyQQrPnkZG",
        "outputId": "89ad3cfa-0b58-40d6-fa9e-a7889c75027c",
        "colab": {
          "base_uri": "https://localhost:8080/",
          "height": 279
        }
      },
      "source": [
        "### Training Pong ###\n",
        "\n",
        "# Hyperparameters\n",
        "learning_rate=1e-4\n",
        "MAX_ITERS = 10000 # increase the maximum number of episodes, since Pong is more complex!\n",
        "\n",
        "# Model and optimizer\n",
        "pong_model = create_pong_model()\n",
        "optimizer = tf.keras.optimizers.Adam(learning_rate)\n",
        "\n",
        "# plotting\n",
        "smoothed_reward = mdl.util.LossHistory(smoothing_factor=0.9)\n",
        "plotter = mdl.util.PeriodicPlotter(sec=5, xlabel='Iterations', ylabel='Rewards')\n",
        "memory = Memory()\n",
        "\n",
        "for i_episode in range(MAX_ITERS):\n",
        "\n",
        "  plotter.plot(smoothed_reward.get())\n",
        "\n",
        "  # Restart the environment\n",
        "  observation = env.reset()\n",
        "  previous_frame = mdl.lab3.preprocess_pong(observation)\n",
        "\n",
        "  while True:\n",
        "      # Pre-process image \n",
        "      current_frame = mdl.lab3.preprocess_pong(observation)\n",
        "      \n",
        "      '''TODO: determine the observation change\n",
        "      Hint: this is the difference between the past two frames'''\n",
        "      obs_change = current_frame-previous_frame\n",
        "      \n",
        "      '''TODO: choose an action for the pong model, using the frame difference, and evaluate'''\n",
        "      action = choose_action(pong_model, obs_change)\n",
        "      # Take the chosen action\n",
        "      next_observation, reward, done, info = env.step(action)\n",
        "\n",
        "      '''TODO: save the observed frame difference, the action that was taken, and the resulting reward!'''\n",
        "      memory.add_to_memory(obs_change, action, reward)\n",
        "      \n",
        "      # is the episode over? did you crash or do so well that you're done?\n",
        "      if done:\n",
        "          # determine total reward and keep a record of this\n",
        "          total_reward = sum(memory.rewards)\n",
        "          smoothed_reward.append( total_reward )\n",
        "\n",
        "          # begin training\n",
        "          train_step(pong_model, \n",
        "                     optimizer, \n",
        "                     observations = np.stack(memory.observations, 0), \n",
        "                     actions = np.array(memory.actions),\n",
        "                     discounted_rewards = discount_rewards(memory.rewards))\n",
        "          \n",
        "          memory.clear()\n",
        "          break\n",
        "\n",
        "      observation = next_observation\n",
        "      previous_frame = current_frame"
      ],
      "execution_count": null,
      "outputs": [
        {
          "output_type": "display_data",
          "data": {
            "image/png": "[encoded data removed]",
            "text/plain": [
              "<Figure size 432x288 with 1 Axes>"
            ]
          },
          "metadata": {
            "tags": []
          }
        }
      ]
    },
    {
      "cell_type": "markdown",
      "metadata": {
        "id": "8LiEY5Y_ts-Z"
      },
      "source": [
        "Finally we can put our trained agent to the test! It will play in a newly instantiated Pong environment against the \"computer\", a base AI system for Pong. Your agent plays as the green paddle. Let's watch the match instant replay!"
      ]
    },
    {
      "cell_type": "code",
      "metadata": {
        "id": "TvHXbkL0tR6M",
        "colab": {
          "base_uri": "https://localhost:8080/",
          "height": 212
        },
        "outputId": "98302535-0def-4d6d-d72c-af469ba07fd9"
      },
      "source": [
        "saved_pong = mdl.lab3.save_video_of_model(\n",
        "    pong_model, \"Pong-v0\", obs_diff=True, \n",
        "    pp_fn=mdl.lab3.preprocess_pong)\n",
        "mdl.lab3.play_video(saved_pong)"
      ],
      "execution_count": null,
      "outputs": [
        {
          "output_type": "error",
          "ename": "NameError",
          "evalue": "ignored",
          "traceback": [
            "\u001b[0;31m---------------------------------------------------------------------------\u001b[0m",
            "\u001b[0;31mNameError\u001b[0m                                 Traceback (most recent call last)",
            "\u001b[0;32m<ipython-input-1-00442644751a>\u001b[0m in \u001b[0;36m<module>\u001b[0;34m()\u001b[0m\n\u001b[0;32m----> 1\u001b[0;31m saved_pong = mdl.lab3.save_video_of_model(\n\u001b[0m\u001b[1;32m      2\u001b[0m     \u001b[0mpong_model\u001b[0m\u001b[0;34m,\u001b[0m \u001b[0;34m\"Pong-v0\"\u001b[0m\u001b[0;34m,\u001b[0m \u001b[0mobs_diff\u001b[0m\u001b[0;34m=\u001b[0m\u001b[0;32mTrue\u001b[0m\u001b[0;34m,\u001b[0m\u001b[0;34m\u001b[0m\u001b[0;34m\u001b[0m\u001b[0m\n\u001b[1;32m      3\u001b[0m     pp_fn=mdl.lab3.preprocess_pong)\n\u001b[1;32m      4\u001b[0m \u001b[0mmdl\u001b[0m\u001b[0;34m.\u001b[0m\u001b[0mlab3\u001b[0m\u001b[0;34m.\u001b[0m\u001b[0mplay_video\u001b[0m\u001b[0;34m(\u001b[0m\u001b[0msaved_pong\u001b[0m\u001b[0;34m)\u001b[0m\u001b[0;34m\u001b[0m\u001b[0;34m\u001b[0m\u001b[0m\n",
            "\u001b[0;31mNameError\u001b[0m: name 'mdl' is not defined"
          ]
        }
      ]
    },
    {
      "cell_type": "markdown",
      "metadata": {
        "id": "TIlwIgBP3Js6"
      },
      "source": [
        "## 3.10 Conclusion\n",
        "\n",
        "That's it! Congratulations on training two RL agents and putting them to the test! We encourage you to consider the following:\n",
        "\n",
        "*   How does the agent perform?\n",
        "*   Could you train it for shorter amounts of time  and still perform well?\n",
        "*   Do you think that training longer would help even more? \n",
        "* How does the complexity of Pong relative to Cartpole alter the rate at which the agent learns and its performance? \n",
        "* What are some things you could change about the agent or the learning process to potentially improve performance?\n",
        "\n",
        "If you want to go further, try to optimize your model to achieve the best performance! **[Email us](mailto:introtodeeplearning-staff@mit.edu) a copy of your notebook with the Pong training executed AND a saved video of your Pong agent competing! We'll give out prizes to the best performers!**"
      ]
    }
  ]
}